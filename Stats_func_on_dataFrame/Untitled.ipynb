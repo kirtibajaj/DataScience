{
 "cells": [
  {
   "cell_type": "code",
   "execution_count": 1,
   "metadata": {
    "collapsed": true
   },
   "outputs": [],
   "source": [
    "%matplotlib inline\n",
    "import matplotlib.pyplot as plt\n",
    "import numpy as np\n",
    "import pandas as pd\n"
   ]
  },
  {
   "cell_type": "code",
   "execution_count": 2,
   "metadata": {},
   "outputs": [
    {
     "data": {
      "text/html": [
       "<div>\n",
       "<style>\n",
       "    .dataframe thead tr:only-child th {\n",
       "        text-align: right;\n",
       "    }\n",
       "\n",
       "    .dataframe thead th {\n",
       "        text-align: left;\n",
       "    }\n",
       "\n",
       "    .dataframe tbody tr th {\n",
       "        vertical-align: top;\n",
       "    }\n",
       "</style>\n",
       "<table border=\"1\" class=\"dataframe\">\n",
       "  <thead>\n",
       "    <tr style=\"text-align: right;\">\n",
       "      <th></th>\n",
       "      <th>Name</th>\n",
       "      <th>Team</th>\n",
       "      <th>Position</th>\n",
       "      <th>Height</th>\n",
       "      <th>Weight</th>\n",
       "      <th>Age</th>\n",
       "      <th>PosCategory</th>\n",
       "    </tr>\n",
       "  </thead>\n",
       "  <tbody>\n",
       "    <tr>\n",
       "      <th>0</th>\n",
       "      <td>Adam_Donachie</td>\n",
       "      <td>BAL</td>\n",
       "      <td>Catcher</td>\n",
       "      <td>74</td>\n",
       "      <td>180</td>\n",
       "      <td>22.99</td>\n",
       "      <td>Catcher</td>\n",
       "    </tr>\n",
       "    <tr>\n",
       "      <th>1</th>\n",
       "      <td>Paul_Bako</td>\n",
       "      <td>BAL</td>\n",
       "      <td>Catcher</td>\n",
       "      <td>74</td>\n",
       "      <td>215</td>\n",
       "      <td>34.69</td>\n",
       "      <td>Catcher</td>\n",
       "    </tr>\n",
       "    <tr>\n",
       "      <th>2</th>\n",
       "      <td>Ramon_Hernandez</td>\n",
       "      <td>BAL</td>\n",
       "      <td>Catcher</td>\n",
       "      <td>72</td>\n",
       "      <td>210</td>\n",
       "      <td>30.78</td>\n",
       "      <td>Catcher</td>\n",
       "    </tr>\n",
       "    <tr>\n",
       "      <th>3</th>\n",
       "      <td>Kevin_Millar</td>\n",
       "      <td>BAL</td>\n",
       "      <td>First_Baseman</td>\n",
       "      <td>72</td>\n",
       "      <td>210</td>\n",
       "      <td>35.43</td>\n",
       "      <td>Infielder</td>\n",
       "    </tr>\n",
       "    <tr>\n",
       "      <th>4</th>\n",
       "      <td>Chris_Gomez</td>\n",
       "      <td>BAL</td>\n",
       "      <td>First_Baseman</td>\n",
       "      <td>73</td>\n",
       "      <td>188</td>\n",
       "      <td>35.71</td>\n",
       "      <td>Infielder</td>\n",
       "    </tr>\n",
       "  </tbody>\n",
       "</table>\n",
       "</div>"
      ],
      "text/plain": [
       "              Name Team       Position  Height  Weight    Age PosCategory\n",
       "0    Adam_Donachie  BAL        Catcher      74     180  22.99     Catcher\n",
       "1        Paul_Bako  BAL        Catcher      74     215  34.69     Catcher\n",
       "2  Ramon_Hernandez  BAL        Catcher      72     210  30.78     Catcher\n",
       "3     Kevin_Millar  BAL  First_Baseman      72     210  35.43   Infielder\n",
       "4      Chris_Gomez  BAL  First_Baseman      73     188  35.71   Infielder"
      ]
     },
     "execution_count": 2,
     "metadata": {},
     "output_type": "execute_result"
    }
   ],
   "source": [
    "df = pd.read_csv(\"baseball.csv\")\n",
    "df.head()"
   ]
  },
  {
   "cell_type": "code",
   "execution_count": 6,
   "metadata": {},
   "outputs": [],
   "source": [
    "df=df.sort_values([\"Height\"])"
   ]
  },
  {
   "cell_type": "code",
   "execution_count": 7,
   "metadata": {},
   "outputs": [
    {
     "data": {
      "text/html": [
       "<div>\n",
       "<style>\n",
       "    .dataframe thead tr:only-child th {\n",
       "        text-align: right;\n",
       "    }\n",
       "\n",
       "    .dataframe thead th {\n",
       "        text-align: left;\n",
       "    }\n",
       "\n",
       "    .dataframe tbody tr th {\n",
       "        vertical-align: top;\n",
       "    }\n",
       "</style>\n",
       "<table border=\"1\" class=\"dataframe\">\n",
       "  <thead>\n",
       "    <tr style=\"text-align: right;\">\n",
       "      <th></th>\n",
       "      <th>Name</th>\n",
       "      <th>Team</th>\n",
       "      <th>Position</th>\n",
       "      <th>Height</th>\n",
       "      <th>Weight</th>\n",
       "      <th>Age</th>\n",
       "      <th>PosCategory</th>\n",
       "    </tr>\n",
       "  </thead>\n",
       "  <tbody>\n",
       "    <tr>\n",
       "      <th>989</th>\n",
       "      <td>David_Eckstein</td>\n",
       "      <td>STL</td>\n",
       "      <td>Shortstop</td>\n",
       "      <td>67</td>\n",
       "      <td>165</td>\n",
       "      <td>32.11</td>\n",
       "      <td>Infielder</td>\n",
       "    </tr>\n",
       "    <tr>\n",
       "      <th>988</th>\n",
       "      <td>Aaron_Miles</td>\n",
       "      <td>STL</td>\n",
       "      <td>Second_Baseman</td>\n",
       "      <td>67</td>\n",
       "      <td>180</td>\n",
       "      <td>30.21</td>\n",
       "      <td>Infielder</td>\n",
       "    </tr>\n",
       "    <tr>\n",
       "      <th>83</th>\n",
       "      <td>Chone_Figgins</td>\n",
       "      <td>ANA</td>\n",
       "      <td>Outfielder</td>\n",
       "      <td>68</td>\n",
       "      <td>160</td>\n",
       "      <td>29.10</td>\n",
       "      <td>Outfielder</td>\n",
       "    </tr>\n",
       "    <tr>\n",
       "      <th>809</th>\n",
       "      <td>Fabio_Castro</td>\n",
       "      <td>PHI</td>\n",
       "      <td>Relief_Pitcher</td>\n",
       "      <td>68</td>\n",
       "      <td>150</td>\n",
       "      <td>22.11</td>\n",
       "      <td>Pitcher</td>\n",
       "    </tr>\n",
       "    <tr>\n",
       "      <th>784</th>\n",
       "      <td>Jimmy_Rollins</td>\n",
       "      <td>PHI</td>\n",
       "      <td>Shortstop</td>\n",
       "      <td>68</td>\n",
       "      <td>167</td>\n",
       "      <td>28.26</td>\n",
       "      <td>Infielder</td>\n",
       "    </tr>\n",
       "    <tr>\n",
       "      <th>849</th>\n",
       "      <td>Marcus_Giles</td>\n",
       "      <td>SD</td>\n",
       "      <td>Second_Baseman</td>\n",
       "      <td>68</td>\n",
       "      <td>180</td>\n",
       "      <td>28.79</td>\n",
       "      <td>Infielder</td>\n",
       "    </tr>\n",
       "    <tr>\n",
       "      <th>756</th>\n",
       "      <td>Delwyn_Young</td>\n",
       "      <td>LA</td>\n",
       "      <td>Outfielder</td>\n",
       "      <td>68</td>\n",
       "      <td>209</td>\n",
       "      <td>24.67</td>\n",
       "      <td>Outfielder</td>\n",
       "    </tr>\n",
       "    <tr>\n",
       "      <th>76</th>\n",
       "      <td>Maicer_Izturis</td>\n",
       "      <td>ANA</td>\n",
       "      <td>Third_Baseman</td>\n",
       "      <td>68</td>\n",
       "      <td>155</td>\n",
       "      <td>26.46</td>\n",
       "      <td>Infielder</td>\n",
       "    </tr>\n",
       "    <tr>\n",
       "      <th>953</th>\n",
       "      <td>Ray_Durham</td>\n",
       "      <td>SF</td>\n",
       "      <td>Second_Baseman</td>\n",
       "      <td>68</td>\n",
       "      <td>196</td>\n",
       "      <td>35.25</td>\n",
       "      <td>Infielder</td>\n",
       "    </tr>\n",
       "    <tr>\n",
       "      <th>286</th>\n",
       "      <td>Ichiro_Suzuki</td>\n",
       "      <td>SEA</td>\n",
       "      <td>Outfielder</td>\n",
       "      <td>69</td>\n",
       "      <td>172</td>\n",
       "      <td>33.36</td>\n",
       "      <td>Outfielder</td>\n",
       "    </tr>\n",
       "  </tbody>\n",
       "</table>\n",
       "</div>"
      ],
      "text/plain": [
       "               Name Team        Position  Height  Weight    Age PosCategory\n",
       "989  David_Eckstein  STL       Shortstop      67     165  32.11   Infielder\n",
       "988     Aaron_Miles  STL  Second_Baseman      67     180  30.21   Infielder\n",
       "83    Chone_Figgins  ANA      Outfielder      68     160  29.10  Outfielder\n",
       "809    Fabio_Castro  PHI  Relief_Pitcher      68     150  22.11     Pitcher\n",
       "784   Jimmy_Rollins  PHI       Shortstop      68     167  28.26   Infielder\n",
       "849    Marcus_Giles   SD  Second_Baseman      68     180  28.79   Infielder\n",
       "756    Delwyn_Young   LA      Outfielder      68     209  24.67  Outfielder\n",
       "76   Maicer_Izturis  ANA   Third_Baseman      68     155  26.46   Infielder\n",
       "953      Ray_Durham   SF  Second_Baseman      68     196  35.25   Infielder\n",
       "286   Ichiro_Suzuki  SEA      Outfielder      69     172  33.36  Outfielder"
      ]
     },
     "execution_count": 7,
     "metadata": {},
     "output_type": "execute_result"
    }
   ],
   "source": [
    "df.head(10)"
   ]
  },
  {
   "cell_type": "code",
   "execution_count": 9,
   "metadata": {},
   "outputs": [
    {
     "data": {
      "text/html": [
       "<div>\n",
       "<style>\n",
       "    .dataframe thead tr:only-child th {\n",
       "        text-align: right;\n",
       "    }\n",
       "\n",
       "    .dataframe thead th {\n",
       "        text-align: left;\n",
       "    }\n",
       "\n",
       "    .dataframe tbody tr th {\n",
       "        vertical-align: top;\n",
       "    }\n",
       "</style>\n",
       "<table border=\"1\" class=\"dataframe\">\n",
       "  <thead>\n",
       "    <tr style=\"text-align: right;\">\n",
       "      <th></th>\n",
       "      <th>Name</th>\n",
       "      <th>Team</th>\n",
       "      <th>Position</th>\n",
       "      <th>Height</th>\n",
       "      <th>Weight</th>\n",
       "      <th>Age</th>\n",
       "      <th>PosCategory</th>\n",
       "    </tr>\n",
       "  </thead>\n",
       "  <tbody>\n",
       "    <tr>\n",
       "      <th>660</th>\n",
       "      <td>Jason_Hirsh</td>\n",
       "      <td>COL</td>\n",
       "      <td>Starting_Pitcher</td>\n",
       "      <td>80</td>\n",
       "      <td>250</td>\n",
       "      <td>25.02</td>\n",
       "      <td>Pitcher</td>\n",
       "    </tr>\n",
       "    <tr>\n",
       "      <th>492</th>\n",
       "      <td>Phil_Stockman</td>\n",
       "      <td>ATL</td>\n",
       "      <td>Relief_Pitcher</td>\n",
       "      <td>80</td>\n",
       "      <td>240</td>\n",
       "      <td>27.10</td>\n",
       "      <td>Pitcher</td>\n",
       "    </tr>\n",
       "    <tr>\n",
       "      <th>274</th>\n",
       "      <td>Richie_Sexson</td>\n",
       "      <td>SEA</td>\n",
       "      <td>First_Baseman</td>\n",
       "      <td>80</td>\n",
       "      <td>237</td>\n",
       "      <td>32.17</td>\n",
       "      <td>Infielder</td>\n",
       "    </tr>\n",
       "    <tr>\n",
       "      <th>120</th>\n",
       "      <td>Kyle_Snyder</td>\n",
       "      <td>BOS</td>\n",
       "      <td>Starting_Pitcher</td>\n",
       "      <td>80</td>\n",
       "      <td>220</td>\n",
       "      <td>29.47</td>\n",
       "      <td>Pitcher</td>\n",
       "    </tr>\n",
       "    <tr>\n",
       "      <th>356</th>\n",
       "      <td>Scott_Elarton</td>\n",
       "      <td>KC</td>\n",
       "      <td>Starting_Pitcher</td>\n",
       "      <td>80</td>\n",
       "      <td>240</td>\n",
       "      <td>31.02</td>\n",
       "      <td>Pitcher</td>\n",
       "    </tr>\n",
       "    <tr>\n",
       "      <th>59</th>\n",
       "      <td>Andrew_Sisco</td>\n",
       "      <td>CWS</td>\n",
       "      <td>Relief_Pitcher</td>\n",
       "      <td>81</td>\n",
       "      <td>260</td>\n",
       "      <td>24.13</td>\n",
       "      <td>Pitcher</td>\n",
       "    </tr>\n",
       "    <tr>\n",
       "      <th>764</th>\n",
       "      <td>Mark_Hendrickson</td>\n",
       "      <td>LA</td>\n",
       "      <td>Starting_Pitcher</td>\n",
       "      <td>81</td>\n",
       "      <td>230</td>\n",
       "      <td>32.69</td>\n",
       "      <td>Pitcher</td>\n",
       "    </tr>\n",
       "    <tr>\n",
       "      <th>862</th>\n",
       "      <td>Chris_Young</td>\n",
       "      <td>SD</td>\n",
       "      <td>Starting_Pitcher</td>\n",
       "      <td>82</td>\n",
       "      <td>250</td>\n",
       "      <td>27.77</td>\n",
       "      <td>Pitcher</td>\n",
       "    </tr>\n",
       "    <tr>\n",
       "      <th>558</th>\n",
       "      <td>Randy_Johnson</td>\n",
       "      <td>ARZ</td>\n",
       "      <td>Starting_Pitcher</td>\n",
       "      <td>82</td>\n",
       "      <td>231</td>\n",
       "      <td>43.47</td>\n",
       "      <td>Pitcher</td>\n",
       "    </tr>\n",
       "    <tr>\n",
       "      <th>909</th>\n",
       "      <td>Jon_Rauch</td>\n",
       "      <td>WAS</td>\n",
       "      <td>Relief_Pitcher</td>\n",
       "      <td>83</td>\n",
       "      <td>260</td>\n",
       "      <td>28.42</td>\n",
       "      <td>Pitcher</td>\n",
       "    </tr>\n",
       "  </tbody>\n",
       "</table>\n",
       "</div>"
      ],
      "text/plain": [
       "                 Name Team          Position  Height  Weight    Age  \\\n",
       "660       Jason_Hirsh  COL  Starting_Pitcher      80     250  25.02   \n",
       "492     Phil_Stockman  ATL    Relief_Pitcher      80     240  27.10   \n",
       "274     Richie_Sexson  SEA     First_Baseman      80     237  32.17   \n",
       "120       Kyle_Snyder  BOS  Starting_Pitcher      80     220  29.47   \n",
       "356     Scott_Elarton   KC  Starting_Pitcher      80     240  31.02   \n",
       "59       Andrew_Sisco  CWS    Relief_Pitcher      81     260  24.13   \n",
       "764  Mark_Hendrickson   LA  Starting_Pitcher      81     230  32.69   \n",
       "862       Chris_Young   SD  Starting_Pitcher      82     250  27.77   \n",
       "558     Randy_Johnson  ARZ  Starting_Pitcher      82     231  43.47   \n",
       "909         Jon_Rauch  WAS    Relief_Pitcher      83     260  28.42   \n",
       "\n",
       "    PosCategory  \n",
       "660     Pitcher  \n",
       "492     Pitcher  \n",
       "274   Infielder  \n",
       "120     Pitcher  \n",
       "356     Pitcher  \n",
       "59      Pitcher  \n",
       "764     Pitcher  \n",
       "862     Pitcher  \n",
       "558     Pitcher  \n",
       "909     Pitcher  "
      ]
     },
     "execution_count": 9,
     "metadata": {},
     "output_type": "execute_result"
    }
   ],
   "source": [
    "df.tail(10)"
   ]
  },
  {
   "cell_type": "code",
   "execution_count": 10,
   "metadata": {},
   "outputs": [
    {
     "data": {
      "text/html": [
       "<div>\n",
       "<style>\n",
       "    .dataframe thead tr:only-child th {\n",
       "        text-align: right;\n",
       "    }\n",
       "\n",
       "    .dataframe thead th {\n",
       "        text-align: left;\n",
       "    }\n",
       "\n",
       "    .dataframe tbody tr th {\n",
       "        vertical-align: top;\n",
       "    }\n",
       "</style>\n",
       "<table border=\"1\" class=\"dataframe\">\n",
       "  <thead>\n",
       "    <tr style=\"text-align: right;\">\n",
       "      <th></th>\n",
       "      <th>Height</th>\n",
       "      <th>Weight</th>\n",
       "      <th>Age</th>\n",
       "    </tr>\n",
       "  </thead>\n",
       "  <tbody>\n",
       "    <tr>\n",
       "      <th>count</th>\n",
       "      <td>1015.000000</td>\n",
       "      <td>1015.000000</td>\n",
       "      <td>1015.000000</td>\n",
       "    </tr>\n",
       "    <tr>\n",
       "      <th>mean</th>\n",
       "      <td>73.689655</td>\n",
       "      <td>201.348768</td>\n",
       "      <td>28.708355</td>\n",
       "    </tr>\n",
       "    <tr>\n",
       "      <th>std</th>\n",
       "      <td>2.313932</td>\n",
       "      <td>20.823115</td>\n",
       "      <td>4.314453</td>\n",
       "    </tr>\n",
       "    <tr>\n",
       "      <th>min</th>\n",
       "      <td>67.000000</td>\n",
       "      <td>150.000000</td>\n",
       "      <td>20.900000</td>\n",
       "    </tr>\n",
       "    <tr>\n",
       "      <th>25%</th>\n",
       "      <td>72.000000</td>\n",
       "      <td>186.000000</td>\n",
       "      <td>25.405000</td>\n",
       "    </tr>\n",
       "    <tr>\n",
       "      <th>50%</th>\n",
       "      <td>74.000000</td>\n",
       "      <td>200.000000</td>\n",
       "      <td>27.900000</td>\n",
       "    </tr>\n",
       "    <tr>\n",
       "      <th>75%</th>\n",
       "      <td>75.000000</td>\n",
       "      <td>215.000000</td>\n",
       "      <td>31.190000</td>\n",
       "    </tr>\n",
       "    <tr>\n",
       "      <th>max</th>\n",
       "      <td>83.000000</td>\n",
       "      <td>290.000000</td>\n",
       "      <td>48.520000</td>\n",
       "    </tr>\n",
       "  </tbody>\n",
       "</table>\n",
       "</div>"
      ],
      "text/plain": [
       "            Height       Weight          Age\n",
       "count  1015.000000  1015.000000  1015.000000\n",
       "mean     73.689655   201.348768    28.708355\n",
       "std       2.313932    20.823115     4.314453\n",
       "min      67.000000   150.000000    20.900000\n",
       "25%      72.000000   186.000000    25.405000\n",
       "50%      74.000000   200.000000    27.900000\n",
       "75%      75.000000   215.000000    31.190000\n",
       "max      83.000000   290.000000    48.520000"
      ]
     },
     "execution_count": 10,
     "metadata": {},
     "output_type": "execute_result"
    }
   ],
   "source": [
    "df.describe()"
   ]
  },
  {
   "cell_type": "code",
   "execution_count": 12,
   "metadata": {},
   "outputs": [],
   "source": [
    "h=df['Height']\n",
    "w=df['Weight']"
   ]
  },
  {
   "cell_type": "code",
   "execution_count": 13,
   "metadata": {},
   "outputs": [
    {
     "data": {
      "image/png": "[encoded data removed]",
      "text/plain": [
       "<matplotlib.figure.Figure at 0x16deac0a278>"
      ]
     },
     "metadata": {},
     "output_type": "display_data"
    }
   ],
   "source": [
    "plt.scatter(w,h)\n",
    "plt.show()"
   ]
  },
  {
   "cell_type": "code",
   "execution_count": 17,
   "metadata": {},
   "outputs": [
    {
     "data": {
      "text/plain": [
       "[<matplotlib.lines.Line2D at 0x16dec6687f0>]"
      ]
     },
     "execution_count": 17,
     "metadata": {},
     "output_type": "execute_result"
    },
    {
     "data": {
      "image/png": "[encoded data removed]",
      "text/plain": [
       "<matplotlib.figure.Figure at 0x16deb42bd68>"
      ]
     },
     "metadata": {},
     "output_type": "display_data"
    }
   ],
   "source": [
    "plt.plot(w,h,'r:')"
   ]
  },
  {
   "cell_type": "code",
   "execution_count": 22,
   "metadata": {},
   "outputs": [
    {
     "data": {
      "image/png": "[encoded data removed]",
      "text/plain": [
       "<matplotlib.figure.Figure at 0x16dec9b4588>"
      ]
     },
     "metadata": {},
     "output_type": "display_data"
    },
    {
     "data": {
      "image/png": "[encoded data removed]",
      "text/plain": [
       "<matplotlib.figure.Figure at 0x16dec9f6f98>"
      ]
     },
     "metadata": {},
     "output_type": "display_data"
    }
   ],
   "source": [
    "plt.hist(h,20)\n",
    "plt.show()\n",
    "plt.hist(w,20)\n",
    "plt.show()"
   ]
  },
  {
   "cell_type": "code",
   "execution_count": 23,
   "metadata": {},
   "outputs": [
    {
     "data": {
      "text/plain": [
       "array([  68.82482699,   92.09865224,   94.02344201,   57.99742831,\n",
       "         43.20894489,   92.92471089,   61.62610116,   54.02287968,\n",
       "         59.2187576 ,   88.15935114,   49.30746085,   88.36194464,\n",
       "         65.05364695,   45.23656758,   52.7823738 ,   59.11776495,\n",
       "         78.61709734,   40.42940976,   48.21929503,   41.68678011,\n",
       "         46.28933602,   41.58991256,   73.94565913,   92.59858627,\n",
       "         42.61611769,   61.58032909,   45.89962802,   78.58535071,\n",
       "         57.58929594,  104.65249748,   55.98074385,   71.06360784,\n",
       "         87.46773743,   47.16866669,   58.0249586 ,   16.03900903,\n",
       "         80.41124557,   99.22831477,   44.63494505,   71.53303207,\n",
       "         64.29375156,   64.83926279,   66.40446377,   73.98358209,\n",
       "         98.33510282,   79.78194795,   96.57790478,   72.06020469,\n",
       "         43.05010938])"
      ]
     },
     "execution_count": 23,
     "metadata": {},
     "output_type": "execute_result"
    }
   ],
   "source": [
    "data = np.random.normal(65,20,1000)\n",
    "data[1:50]"
   ]
  },
  {
   "cell_type": "code",
   "execution_count": 24,
   "metadata": {},
   "outputs": [
    {
     "data": {
      "image/png": "[encoded data removed]",
      "text/plain": [
       "<matplotlib.figure.Figure at 0x16dec9b4d30>"
      ]
     },
     "metadata": {},
     "output_type": "display_data"
    }
   ],
   "source": [
    "plt.hist(data,)\n",
    "plt.show()"
   ]
  },
  {
   "cell_type": "code",
   "execution_count": 25,
   "metadata": {},
   "outputs": [
    {
     "data": {
      "image/png": "[encoded data removed]",
      "text/plain": [
       "<matplotlib.figure.Figure at 0x16deca3e198>"
      ]
     },
     "metadata": {},
     "output_type": "display_data"
    },
    {
     "data": {
      "image/png": "[encoded data removed]",
      "text/plain": [
       "<matplotlib.figure.Figure at 0x16decb795f8>"
      ]
     },
     "metadata": {},
     "output_type": "display_data"
    }
   ],
   "source": [
    "plt.plot(data)\n",
    "plt.show()\n",
    "plt.scatter(range(1,1001),data)\n",
    "plt.show()"
   ]
  },
  {
   "cell_type": "code",
   "execution_count": 26,
   "metadata": {},
   "outputs": [
    {
     "data": {
      "text/plain": [
       "63.310773820137648"
      ]
     },
     "execution_count": 26,
     "metadata": {},
     "output_type": "execute_result"
    }
   ],
   "source": [
    "data.mean()"
   ]
  },
  {
   "cell_type": "code",
   "execution_count": 27,
   "metadata": {},
   "outputs": [
    {
     "data": {
      "text/plain": [
       "63.323183378692093"
      ]
     },
     "execution_count": 27,
     "metadata": {},
     "output_type": "execute_result"
    }
   ],
   "source": [
    "np.median(data)"
   ]
  },
  {
   "cell_type": "code",
   "execution_count": 46,
   "metadata": {
    "collapsed": true
   },
   "outputs": [],
   "source": [
    "#Presence of outliers\n",
    "\n",
    "\n",
    "data = np.append(data,[900,850,800])"
   ]
  },
  {
   "cell_type": "code",
   "execution_count": 47,
   "metadata": {},
   "outputs": [
    {
     "data": {
      "text/plain": [
       "70.327823409452591"
      ]
     },
     "execution_count": 47,
     "metadata": {},
     "output_type": "execute_result"
    }
   ],
   "source": [
    "np.mean(data)"
   ]
  },
  {
   "cell_type": "code",
   "execution_count": 48,
   "metadata": {},
   "outputs": [
    {
     "data": {
      "text/plain": [
       "63.748352731285301"
      ]
     },
     "execution_count": 48,
     "metadata": {},
     "output_type": "execute_result"
    }
   ],
   "source": [
    "np.median(data)"
   ]
  },
  {
   "cell_type": "code",
   "execution_count": 53,
   "metadata": {},
   "outputs": [
    {
     "data": {
      "image/png": "[encoded data removed]",
      "text/plain": [
       "<matplotlib.figure.Figure at 0x16dec71e5f8>"
      ]
     },
     "metadata": {},
     "output_type": "display_data"
    },
    {
     "data": {
      "image/png": "[encoded data removed]",
      "text/plain": [
       "<matplotlib.figure.Figure at 0x16deabff0b8>"
      ]
     },
     "metadata": {},
     "output_type": "display_data"
    },
    {
     "data": {
      "image/png": "[encoded data removed]",
      "text/plain": [
       "<matplotlib.figure.Figure at 0x16de63109b0>"
      ]
     },
     "metadata": {},
     "output_type": "display_data"
    }
   ],
   "source": [
    "plt.hist(data,13)\n",
    "plt.show()\n",
    "plt.plot(data,'g')\n",
    "plt.show()\n",
    "plt.scatter(range(1,1010),data)\n",
    "plt.show()"
   ]
  },
  {
   "cell_type": "code",
   "execution_count": 54,
   "metadata": {},
   "outputs": [
    {
     "data": {
      "text/plain": [
       "array([22, 20, 11, 33, 28, 14, 43, 46, 23, 39])"
      ]
     },
     "execution_count": 54,
     "metadata": {},
     "output_type": "execute_result"
    }
   ],
   "source": [
    "x = np.random.randint(10,high=50,size=10)\n",
    "x"
   ]
  },
  {
   "cell_type": "code",
   "execution_count": 56,
   "metadata": {},
   "outputs": [
    {
     "data": {
      "text/plain": [
       "array([39, 38, 99, 24, 97, 64, 99, 53, 60, 33, 43, 23, 89, 32, 91, 61, 74,\n",
       "       78, 93, 35, 50, 46, 44, 84, 99, 49, 98, 80, 36, 90, 33, 92, 23, 59,\n",
       "       47, 20, 40, 72, 95, 68, 58, 84, 58, 95, 75, 95, 79, 84, 48, 57, 80,\n",
       "       40, 21, 31, 22, 64, 99, 87, 56, 33, 44, 50, 39, 30, 32, 59, 59, 39,\n",
       "       32, 56, 78, 53, 30, 89, 27, 65, 61, 55, 79, 62, 26, 46, 44, 54, 25,\n",
       "       22, 33, 32, 85, 86, 75, 68, 75, 86, 29, 24, 64, 48, 77, 41, 37, 42,\n",
       "       76, 75, 71, 78, 58, 76, 61, 68, 83, 76, 34, 26, 94, 87, 49, 64, 56,\n",
       "       38, 69, 28, 72, 64, 85, 64, 33, 77, 55, 25, 79, 89, 41, 66, 93, 55,\n",
       "       38, 80, 47, 33, 53, 47, 22, 22, 69, 80, 80, 28, 66, 22, 49, 76, 18,\n",
       "       70, 49, 18, 79, 98, 46, 65, 81, 58, 21, 92, 47, 75, 92, 31, 53, 20,\n",
       "       34, 85, 59, 27, 79, 61, 57, 19, 34, 94, 54, 61, 70, 71, 41, 74, 95,\n",
       "       93, 95, 67, 22, 99, 27, 28, 71, 42, 23, 40, 23, 81, 59, 72, 24, 72,\n",
       "       89, 90, 37, 67, 40, 29, 60, 84, 82, 57, 31, 54, 45, 62, 57, 80, 35,\n",
       "       90, 37, 71, 69, 43, 22, 44, 67, 58, 40, 85, 31, 43, 47, 68, 75, 91,\n",
       "       28, 94, 27, 58, 58, 95, 71, 65, 93, 92, 24, 46, 92, 85, 36, 34, 72,\n",
       "       80, 74, 62, 54, 60, 18, 35, 48, 44, 68, 62, 30, 77, 46, 47, 19, 47,\n",
       "       23, 58, 97, 94, 20, 22, 43, 27, 59, 64, 33, 50, 90, 93, 61, 57, 61,\n",
       "       70, 74, 23, 99, 49, 56, 34, 92, 49, 75, 19, 69, 35, 84, 29, 36, 96,\n",
       "       49, 55, 52, 26, 86, 94, 54, 97, 67, 83, 60, 34, 65, 46, 94, 95, 38,\n",
       "       56, 86, 92, 44, 70, 81, 41, 91, 92, 97, 64, 74, 73, 51, 44, 73, 62,\n",
       "       96, 44, 98, 39, 51, 39, 45, 69, 88, 75, 70, 23, 48, 67, 34, 37, 99,\n",
       "       94, 48, 73, 95, 28, 85, 52, 27, 28, 19, 68, 36, 32, 88, 36, 85, 55,\n",
       "       75, 98, 95, 59, 27, 80, 57, 29, 28, 34, 37, 43, 63, 78, 23, 68, 34,\n",
       "       24, 89, 77, 77, 83, 57, 95, 37, 34, 58, 65, 39, 18, 39, 45, 44, 59,\n",
       "       95, 70, 80, 74, 59, 55, 92, 93, 53, 99, 56, 31, 22, 41, 97, 45, 97,\n",
       "       18, 56, 22, 67, 55, 95, 97, 23, 21, 46, 93, 53, 79, 83, 61, 21, 26,\n",
       "       22, 50, 21, 95, 84, 46, 43, 67, 79, 56, 44, 47, 26, 48, 91, 80, 57,\n",
       "       49, 69, 53, 29, 34, 71, 60, 80, 60, 61, 68, 69, 61, 90, 50, 58, 71,\n",
       "       91, 32, 77, 24, 56, 71, 61, 32, 62, 88, 53, 85, 32, 92, 28, 60, 33,\n",
       "       95, 91, 96, 39, 97, 87, 60, 88, 33, 37, 59, 97, 82, 34, 59, 97, 96,\n",
       "       78, 66, 32, 55, 94, 94, 45, 94, 50, 92, 59, 20, 66, 71, 32, 36, 64,\n",
       "       55, 68, 79, 44, 77, 18, 66, 38, 58, 78, 97, 42, 98, 64, 73, 28, 66,\n",
       "       44, 45, 95, 44, 27, 82, 78, 96, 93, 75, 86, 57, 38, 69, 90, 62, 27,\n",
       "       21, 45, 91, 25, 52, 92, 64, 88, 51, 25, 21, 54, 36, 61, 86, 56, 27,\n",
       "       52, 79, 92, 28, 94, 82, 35, 94, 62, 72, 95, 39, 81, 46, 45, 92, 77,\n",
       "       42, 65, 98, 31, 48, 84, 79, 26, 66, 51, 41, 83, 22, 80, 74, 34, 42,\n",
       "       71, 38, 23, 95, 32, 98, 55, 99, 29, 80, 44, 48, 23, 89, 26, 53, 74,\n",
       "       31, 73, 44, 58, 29, 53, 40, 93, 50, 83, 65, 93, 95, 36, 25, 78, 48,\n",
       "       36, 75, 28, 44, 55, 53, 30, 32, 24, 79, 44, 30, 75, 65, 91, 88, 98,\n",
       "       50, 32, 84, 27, 84, 45, 71, 61, 85, 21, 75, 60, 61, 63, 76, 89, 20,\n",
       "       19, 25, 99, 67, 32, 76, 84, 31, 44, 94, 37, 41, 25, 54, 57, 76, 37,\n",
       "       31, 80, 41, 28, 30, 92, 58, 88, 36, 52, 67, 28, 99, 45, 39, 57, 27,\n",
       "       97, 26, 50, 41, 57, 90, 99, 63, 69, 36, 86, 60, 81, 72, 87, 59, 61,\n",
       "       58, 98, 87, 52, 49, 19, 20, 37, 54, 79, 30, 89, 38, 86, 86, 67, 93,\n",
       "       76, 65, 75, 83, 73, 22, 33, 90, 73, 19, 90, 74, 22, 68, 39, 44, 63,\n",
       "       61, 99, 31, 66, 91, 90, 28, 69, 80, 63, 47, 86, 78, 52, 77, 77, 45,\n",
       "       33, 41, 61, 32, 27, 87, 48, 54, 38, 95, 74, 31, 94, 24, 27, 38, 19,\n",
       "       65, 87, 80, 72, 56, 87, 19, 77, 38, 22, 92, 30, 52, 72, 54, 29, 42,\n",
       "       35, 69, 58, 99, 57, 27, 63, 18, 55, 62, 93, 35, 20, 93, 26, 43, 29,\n",
       "       37, 34, 59, 61, 92, 43, 71, 35, 92, 79, 32, 31, 55, 49, 80, 54, 57,\n",
       "       21, 24, 67, 98, 69, 20, 75, 40, 78, 87, 95, 62, 49, 80, 39, 78, 76,\n",
       "       89, 35, 95, 19, 84, 68, 20, 52, 91, 21, 74, 71, 92, 90, 33, 31, 90,\n",
       "       58, 67, 59, 84, 24, 98, 34, 45, 82, 44, 44, 74, 26, 83, 37, 72, 45,\n",
       "       82, 79, 57, 47, 64, 43, 38, 67, 93, 43, 80, 46, 75, 29, 63, 47, 21,\n",
       "       43, 64, 26, 44, 84, 99, 78, 82, 49, 39, 78, 68, 27, 33, 58, 36, 38,\n",
       "       51, 45, 98, 86, 99, 58, 54, 74, 45, 40, 57, 46, 73, 27, 55, 62, 77,\n",
       "       76, 31, 41, 85, 37, 32, 24, 22, 53, 79, 65, 35, 46, 20, 64, 66, 48,\n",
       "       37, 71, 25, 77, 68, 77, 67, 46, 74, 60, 51, 22, 73, 79, 52, 37, 46,\n",
       "       45, 97, 27, 58, 23, 19, 57, 51, 60, 66, 39, 77, 51, 73])"
      ]
     },
     "execution_count": 56,
     "metadata": {},
     "output_type": "execute_result"
    }
   ],
   "source": [
    "x = np.random.randint(18,100,1000)\n",
    "x"
   ]
  },
  {
   "cell_type": "code",
   "execution_count": 57,
   "metadata": {},
   "outputs": [
    {
     "data": {
      "text/plain": [
       "58.591000000000001"
      ]
     },
     "execution_count": 57,
     "metadata": {},
     "output_type": "execute_result"
    }
   ],
   "source": [
    "np.mean(x)"
   ]
  },
  {
   "cell_type": "code",
   "execution_count": 58,
   "metadata": {},
   "outputs": [
    {
     "data": {
      "text/plain": [
       "58.0"
      ]
     },
     "execution_count": 58,
     "metadata": {},
     "output_type": "execute_result"
    }
   ],
   "source": [
    "\n",
    "np.median(x)"
   ]
  },
  {
   "cell_type": "code",
   "execution_count": 59,
   "metadata": {
    "collapsed": true
   },
   "outputs": [],
   "source": [
    "from scipy import stats"
   ]
  },
  {
   "cell_type": "code",
   "execution_count": 60,
   "metadata": {},
   "outputs": [
    {
     "name": "stdout",
     "output_type": "stream",
     "text": [
      "['Tester', '__all__', '__builtins__', '__cached__', '__doc__', '__file__', '__loader__', '__name__', '__package__', '__path__', '__spec__', '_binned_statistic', '_constants', '_continuous_distns', '_discrete_distns', '_distn_infrastructure', '_distr_params', '_multivariate', '_stats', '_stats_mstats_common', '_tukeylambda_stats', 'absolute_import', 'alpha', 'anderson', 'anderson_ksamp', 'anglit', 'ansari', 'arcsine', 'argus', 'bartlett', 'bayes_mvs', 'bernoulli', 'beta', 'betai', 'betaprime', 'binned_statistic', 'binned_statistic_2d', 'binned_statistic_dd', 'binom', 'binom_test', 'boltzmann', 'boxcox', 'boxcox_llf', 'boxcox_normmax', 'boxcox_normplot', 'bradford', 'burr', 'burr12', 'cauchy', 'chi', 'chi2', 'chi2_contingency', 'chisqprob', 'chisquare', 'circmean', 'circstd', 'circvar', 'combine_pvalues', 'contingency', 'cosine', 'cumfreq', 'describe', 'dgamma', 'dirichlet', 'distributions', 'division', 'dlaplace', 'dweibull', 'entropy', 'erlang', 'expon', 'exponnorm', 'exponpow', 'exponweib', 'f', 'f_oneway', 'f_value', 'f_value_multivariate', 'f_value_wilks_lambda', 'fastsort', 'fatiguelife', 'find_repeats', 'fisher_exact', 'fisk', 'fligner', 'foldcauchy', 'foldnorm', 'frechet_l', 'frechet_r', 'friedmanchisquare', 'gamma', 'gausshyper', 'gaussian_kde', 'genexpon', 'genextreme', 'gengamma', 'genhalflogistic', 'genlogistic', 'gennorm', 'genpareto', 'geom', 'gilbrat', 'gmean', 'gompertz', 'gumbel_l', 'gumbel_r', 'halfcauchy', 'halfgennorm', 'halflogistic', 'halfnorm', 'histogram', 'histogram2', 'hmean', 'hypergeom', 'hypsecant', 'invgamma', 'invgauss', 'invweibull', 'invwishart', 'iqr', 'itemfreq', 'jarque_bera', 'johnsonsb', 'johnsonsu', 'kappa3', 'kappa4', 'kde', 'kendalltau', 'kruskal', 'ks_2samp', 'ksone', 'kstat', 'kstatvar', 'kstest', 'kstwobign', 'kurtosis', 'kurtosistest', 'laplace', 'levene', 'levy', 'levy_l', 'levy_stable', 'linregress', 'loggamma', 'logistic', 'loglaplace', 'lognorm', 'logser', 'lomax', 'mannwhitneyu', 'matrix_normal', 'maxwell', 'median_test', 'mielke', 'mode', 'moment', 'mood', 'morestats', 'mstats', 'mstats_basic', 'mstats_extras', 'multinomial', 'multivariate_normal', 'mvn', 'mvsdist', 'nakagami', 'nbinom', 'ncf', 'nct', 'ncx2', 'norm', 'normaltest', 'obrientransform', 'ortho_group', 'pareto', 'pdf_fromgamma', 'pearson3', 'pearsonr', 'percentileofscore', 'planck', 'pointbiserialr', 'poisson', 'power_divergence', 'powerlaw', 'powerlognorm', 'powernorm', 'ppcc_max', 'ppcc_plot', 'print_function', 'probplot', 'randint', 'random_correlation', 'rankdata', 'ranksums', 'rayleigh', 'rdist', 'recipinvgauss', 'reciprocal', 'relfreq', 'rice', 'rv_continuous', 'rv_discrete', 'rv_histogram', 'scoreatpercentile', 'sem', 'semicircular', 'shapiro', 'sigmaclip', 'signaltonoise', 'skellam', 'skew', 'skewnorm', 'skewtest', 'spearmanr', 'special_ortho_group', 'square_of_sums', 'ss', 'statlib', 'stats', 't', 'test', 'theilslopes', 'threshold', 'tiecorrect', 'tmax', 'tmean', 'tmin', 'trapz', 'triang', 'trim1', 'trim_mean', 'trimboth', 'truncexpon', 'truncnorm', 'tsem', 'tstd', 'ttest_1samp', 'ttest_ind', 'ttest_ind_from_stats', 'ttest_rel', 'tukeylambda', 'tvar', 'uniform', 'variation', 'vonmises', 'vonmises_line', 'wald', 'weibull_max', 'weibull_min', 'weightedtau', 'wilcoxon', 'wishart', 'wrapcauchy', 'zipf', 'zmap', 'zscore']\n"
     ]
    }
   ],
   "source": [
    "print(dir(stats))"
   ]
  },
  {
   "cell_type": "code",
   "execution_count": 61,
   "metadata": {},
   "outputs": [
    {
     "data": {
      "text/plain": [
       "ModeResult(mode=array([44]), count=array([22]))"
      ]
     },
     "execution_count": 61,
     "metadata": {},
     "output_type": "execute_result"
    }
   ],
   "source": [
    "stats.mode(x)"
   ]
  },
  {
   "cell_type": "code",
   "execution_count": 65,
   "metadata": {},
   "outputs": [
    {
     "data": {
      "image/png": "[encoded data removed]",
      "text/plain": [
       "<matplotlib.figure.Figure at 0x16dec70bcc0>"
      ]
     },
     "metadata": {},
     "output_type": "display_data"
    }
   ],
   "source": [
    "plt.hist(x,75)\n",
    "plt.show()"
   ]
  },
  {
   "cell_type": "code",
   "execution_count": 66,
   "metadata": {
    "collapsed": true
   },
   "outputs": [],
   "source": [
    "age=np.random.randint(18,50,1000)"
   ]
  },
  {
   "cell_type": "code",
   "execution_count": 71,
   "metadata": {},
   "outputs": [
    {
     "data": {
      "image/png": "[encoded data removed]",
      "text/plain": [
       "<matplotlib.figure.Figure at 0x16ded5bbe48>"
      ]
     },
     "metadata": {},
     "output_type": "display_data"
    }
   ],
   "source": [
    "plt.hist(age,40)\n",
    "plt.show()"
   ]
  },
  {
   "cell_type": "code",
   "execution_count": 72,
   "metadata": {},
   "outputs": [
    {
     "data": {
      "text/plain": [
       "33.021999999999998"
      ]
     },
     "execution_count": 72,
     "metadata": {},
     "output_type": "execute_result"
    }
   ],
   "source": [
    "np.mean(age)"
   ]
  },
  {
   "cell_type": "code",
   "execution_count": 73,
   "metadata": {},
   "outputs": [
    {
     "data": {
      "text/plain": [
       "33.0"
      ]
     },
     "execution_count": 73,
     "metadata": {},
     "output_type": "execute_result"
    }
   ],
   "source": [
    "np.median(age)"
   ]
  },
  {
   "cell_type": "code",
   "execution_count": 74,
   "metadata": {},
   "outputs": [
    {
     "data": {
      "text/plain": [
       "9.2194097424943653"
      ]
     },
     "execution_count": 74,
     "metadata": {},
     "output_type": "execute_result"
    }
   ],
   "source": [
    "age.std()"
   ]
  },
  {
   "cell_type": "code",
   "execution_count": 75,
   "metadata": {},
   "outputs": [
    {
     "data": {
      "text/plain": [
       "84.997516000000005"
      ]
     },
     "execution_count": 75,
     "metadata": {},
     "output_type": "execute_result"
    }
   ],
   "source": [
    "age.var()"
   ]
  },
  {
   "cell_type": "code",
   "execution_count": 76,
   "metadata": {
    "collapsed": true
   },
   "outputs": [],
   "source": [
    "x=np.arange(-100,100)"
   ]
  },
  {
   "cell_type": "code",
   "execution_count": 77,
   "metadata": {
    "collapsed": true
   },
   "outputs": [],
   "source": [
    "from scipy.stats import norm"
   ]
  },
  {
   "cell_type": "code",
   "execution_count": 78,
   "metadata": {},
   "outputs": [
    {
     "data": {
      "image/png": "[encoded data removed]",
      "text/plain": [
       "<matplotlib.figure.Figure at 0x16ded6eab70>"
      ]
     },
     "metadata": {},
     "output_type": "display_data"
    }
   ],
   "source": [
    "plt.plot(x,norm.pdf(x))\n",
    "plt.show()"
   ]
  },
  {
   "cell_type": "code",
   "execution_count": 79,
   "metadata": {},
   "outputs": [
    {
     "data": {
      "image/png": "[encoded data removed]",
      "text/plain": [
       "<matplotlib.figure.Figure at 0x16ded7613c8>"
      ]
     },
     "metadata": {},
     "output_type": "display_data"
    }
   ],
   "source": [
    "plt.scatter(x,norm.pdf(x))\n",
    "plt.show()"
   ]
  },
  {
   "cell_type": "code",
   "execution_count": null,
   "metadata": {
    "collapsed": true
   },
   "outputs": [],
   "source": []
  }
 ],
 "metadata": {
  "kernelspec": {
   "display_name": "Python 3",
   "language": "python",
   "name": "python3"
  },
  "language_info": {
   "codemirror_mode": {
    "name": "ipython",
    "version": 3
   },
   "file_extension": ".py",
   "mimetype": "text/x-python",
   "name": "python",
   "nbconvert_exporter": "python",
   "pygments_lexer": "ipython3",
   "version": "3.6.3"
  }
 },
 "nbformat": 4,
 "nbformat_minor": 2
}
